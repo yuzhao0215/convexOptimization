{
 "cells": [
  {
   "cell_type": "code",
   "execution_count": 2,
   "id": "236063d9-c907-4c43-842a-887066fdb634",
   "metadata": {},
   "outputs": [],
   "source": [
    "import cvxpy as cp"
   ]
  },
  {
   "cell_type": "code",
   "execution_count": 2,
   "id": "b55557ad-dbbf-462d-8b96-def50072b7fa",
   "metadata": {},
   "outputs": [],
   "source": [
    "# Create two scalar optimization variables.\n",
    "x = cp.Variable()\n",
    "y = cp.Variable()"
   ]
  },
  {
   "cell_type": "code",
   "execution_count": 6,
   "id": "f91b6edc-cccc-4e8c-8756-fb45e062206a",
   "metadata": {},
   "outputs": [],
   "source": [
    "# Create two constraints.\n",
    "constraints = [x + y == 1,\n",
    "               x - y >= 1]"
   ]
  },
  {
   "cell_type": "code",
   "execution_count": 4,
   "id": "2362550f-a7d6-45ee-acbd-a4025e4ec6cd",
   "metadata": {},
   "outputs": [],
   "source": [
    "# Form objective\n",
    "obj = cp.Minimize((x-y)**2)"
   ]
  },
  {
   "cell_type": "code",
   "execution_count": 7,
   "id": "6fc1137c-91fd-4031-9c11-c2be55d00cff",
   "metadata": {},
   "outputs": [
    {
     "name": "stdout",
     "output_type": "stream",
     "text": [
      "status: optimal\n",
      "optimal value 1.0\n",
      "optimal var 1.0 3.50057026691824e-30\n"
     ]
    }
   ],
   "source": [
    "# Form and solve problem\n",
    "prob = cp.Problem(obj, constraints)\n",
    "prob.solve()\n",
    "print(\"status:\", prob.status)\n",
    "print(\"optimal value\", prob.value)\n",
    "print(\"optimal var\", x.value, y.value)"
   ]
  },
  {
   "cell_type": "code",
   "execution_count": 8,
   "id": "3fbc2f2a-916c-4554-b7e1-288b14e16c58",
   "metadata": {},
   "outputs": [
    {
     "name": "stdout",
     "output_type": "stream",
     "text": [
      "optimal value 0.9999999999999999\n"
     ]
    }
   ],
   "source": [
    "# Replace the objective\n",
    "prob2 = cp.Problem(cp.Maximize(x + y), prob.constraints)\n",
    "print(\"optimal value\", prob2.solve())\n"
   ]
  },
  {
   "cell_type": "code",
   "execution_count": 10,
   "id": "6f5412e0-3e0c-4c1a-aa37-d516a50b87ca",
   "metadata": {},
   "outputs": [
    {
     "name": "stdout",
     "output_type": "stream",
     "text": [
      "optimal value 2.999999999410368\n"
     ]
    }
   ],
   "source": [
    "# Replace the constraint (x + y == 1)\n",
    "constraints = [x + y <= 3] + prob2.constraints[1:]\n",
    "prob3 = cp.Problem(prob2.objective, constraints)\n",
    "print(\"optimal value\", prob3.solve())"
   ]
  },
  {
   "cell_type": "code",
   "execution_count": 11,
   "id": "46742052-382e-46c4-ae22-dcf249e57f06",
   "metadata": {},
   "outputs": [
    {
     "name": "stdout",
     "output_type": "stream",
     "text": [
      "status:  infeasible\n",
      "optimal value inf\n"
     ]
    }
   ],
   "source": [
    "x = cp.Variable()\n",
    "\n",
    "# An infeasible problem\n",
    "prob = cp.Problem(cp.Minimize(x), [x>=1, x<= 0])\n",
    "prob.solve()\n",
    "print(\"status: \", prob.status)\n",
    "print(\"optimal value\", prob.value)"
   ]
  },
  {
   "cell_type": "code",
   "execution_count": 12,
   "id": "5e577df9-8697-4808-8e32-8e7639769faa",
   "metadata": {},
   "outputs": [
    {
     "name": "stdout",
     "output_type": "stream",
     "text": [
      "status:  unbounded\n",
      "optimal value -inf\n"
     ]
    }
   ],
   "source": [
    "# An unbounded problem\n",
    "prob = cp.Problem(cp.Minimize(x))\n",
    "prob.solve()\n",
    "print(\"status: \", prob.status)\n",
    "print(\"optimal value\", prob.value)"
   ]
  },
  {
   "cell_type": "code",
   "execution_count": 14,
   "id": "c2c4186e-bbfc-442f-b41c-90bbd3bed2e0",
   "metadata": {},
   "outputs": [],
   "source": [
    "# A scalar variable\n",
    "a = cp.Variable()\n",
    "\n",
    "# Vector variable with shape (5, )\n",
    "x = cp.Variable(5)\n",
    "\n",
    "# Column vector variable with shape (5, 1)\n",
    "x = cp.Variable((5, 1))\n",
    "\n",
    "# Matrix variable with shape (4, 7)\n",
    "A = cp.Variable((4, 7))"
   ]
  },
  {
   "cell_type": "code",
   "execution_count": 15,
   "id": "48954984-7e27-4847-8c9d-b87df98de07a",
   "metadata": {},
   "outputs": [
    {
     "name": "stdout",
     "output_type": "stream",
     "text": [
      "Optimal objective value 0.4669916162642215\n",
      "Optimal variable value\n",
      "[2.41537905e-22 9.34711514e-02 3.33654727e-01 4.18131816e-01\n",
      " 1.46283341e-02]\n"
     ]
    }
   ],
   "source": [
    "import numpy as np\n",
    "\n",
    "# Problem data\n",
    "m = 10\n",
    "n = 5\n",
    "np.random.seed(1)\n",
    "A = np.random.rand(m,n)\n",
    "b = np.random.rand(m)\n",
    "\n",
    "# Construct the problem\n",
    "x = cp.Variable(n)\n",
    "objective = cp.Minimize(cp.sum_squares(A @ x - b))\n",
    "constraints = [0 <= x, x <= 1]\n",
    "prob = cp.Problem(objective, constraints)\n",
    "\n",
    "print(\"Optimal objective value\", prob.solve())\n",
    "print(\"Optimal variable value\")\n",
    "print(x.value)"
   ]
  },
  {
   "cell_type": "code",
   "execution_count": 17,
   "id": "e78d246f-d0d0-4f80-bc23-fb59c86cf13a",
   "metadata": {},
   "outputs": [],
   "source": [
    "# Positive scalar parameter\n",
    "m = cp.Parameter(nonneg = True)\n",
    "\n",
    "# Column vector parameter with unknown sign (by default)\n",
    "c = cp.Parameter(5)\n",
    "\n",
    "# Matrix parameter with negative entries\n",
    "G = cp.Parameter((4, 7), nonpos = True)\n",
    "\n",
    "# Assign a constant value to G\n",
    "G.value = -np.ones((4, 7))"
   ]
  },
  {
   "cell_type": "code",
   "execution_count": 18,
   "id": "000a4f3e-4b0c-440a-a2e2-f9fefc5cebcb",
   "metadata": {},
   "outputs": [],
   "source": [
    "# Create parameter, then assign value\n",
    "rho = cp.Parameter(nonneg = True)\n",
    "rho.value = 2\n",
    "\n",
    "# Initialize parameter with a value\n",
    "rho = cp.Parameter(nonneg=True, value=2)"
   ]
  },
  {
   "cell_type": "code",
   "execution_count": null,
   "id": "7756513e-cf9c-4dc2-9143-8b672b0e5d41",
   "metadata": {
    "scrolled": true
   },
   "outputs": [],
   "source": [
    "import matplotlib.pyplot as plt\n",
    "plt.rcParams['text.usetex'] = False\n",
    "\n",
    "# Problem data.\n",
    "n = 15\n",
    "m = 10\n",
    "np.random.seed(1)\n",
    "A = np.random.randn(n, m)\n",
    "b = np.random.randn(n)\n",
    "# gamma must be nonnegative due to DCP rules.\n",
    "gamma = cp.Parameter(nonneg=True)\n",
    "\n",
    "# Construct the problem.\n",
    "x = cp.Variable(m)\n",
    "error = cp.sum_squares(A @ x - b)\n",
    "obj = cp.Minimize(error + gamma*cp.norm(x, 1))\n",
    "prob = cp.Problem(obj)\n",
    "\n",
    "# Construct a trade-off curve of ||Ax-b||^2 vs. ||x||_1\n",
    "sq_penalty = []\n",
    "l1_penalty = []\n",
    "x_values = []\n",
    "gamma_vals = np.logspace(-4, 6)\n",
    "for val in gamma_vals:\n",
    "    gamma.value = val\n",
    "    prob.solve()\n",
    "    # Use expr.value to get the numerical value of\n",
    "    # an expression in the problem.\n",
    "    sq_penalty.append(error.value)\n",
    "    l1_penalty.append(cp.norm(x, 1).value)\n",
    "    x_values.append(x.value)\n",
    "\n",
    "plt.rc('text', usetex=True)\n",
    "plt.rc('font', family='serif')\n",
    "plt.figure(figsize=(6,10))\n",
    "\n",
    "# Plot trade-off curve.\n",
    "plt.subplot(211)\n",
    "plt.plot(l1_penalty, sq_penalty)\n",
    "plt.xlabel(r'\\|x\\|_1', fontsize=16)\n",
    "plt.ylabel(r'\\|Ax-b\\|^2', fontsize=16)\n",
    "plt.title('Trade-Off Curve for LASSO', fontsize=16)\n",
    "\n",
    "# Plot entries of x vs. gamma.\n",
    "plt.subplot(212)\n",
    "for i in range(m):\n",
    "    plt.plot(gamma_vals, [xi[i] for xi in x_values])\n",
    "plt.xlabel(r'\\gamma', fontsize=16)\n",
    "plt.ylabel(r'x_{i}', fontsize=16)\n",
    "plt.xscale('log')\n",
    "plt.title(r'\\text{Entries of x vs. }\\gamma', fontsize=16)\n",
    "\n",
    "plt.tight_layout()\n",
    "plt.show()\n"
   ]
  },
  {
   "cell_type": "code",
   "execution_count": null,
   "id": "2f1e4fa0-de83-4f2e-94da-87247d5d9180",
   "metadata": {},
   "outputs": [],
   "source": [
    "from multiprocessing import Pool\n",
    "\n",
    "# Assign a value to gamma and find the optimal x.\n",
    "def get_x(gamma_value):\n",
    "    gamma.value = gamma_value\n",
    "    result = prob.solve()\n",
    "    return x.value\n",
    "\n",
    "# Parallel computation (set to 1 process here).\n",
    "pool = Pool(processes = 1)\n",
    "x_values = pool.map(get_x, gamma_vals)"
   ]
  },
  {
   "cell_type": "code",
   "execution_count": 7,
   "id": "feea9748-26e3-4f41-9169-0addd22d232d",
   "metadata": {},
   "outputs": [
    {
     "ename": "SyntaxError",
     "evalue": "multiple exception types must be parenthesized (737465833.py, line 16)",
     "output_type": "error",
     "traceback": [
      "  \u001b[36mCell\u001b[39m\u001b[36m \u001b[39m\u001b[32mIn[7]\u001b[39m\u001b[32m, line 16\u001b[39m\n\u001b[31m    \u001b[39m\u001b[31mexcept ValueError, e:\u001b[39m\n           ^\n\u001b[31mSyntaxError\u001b[39m\u001b[31m:\u001b[39m multiple exception types must be parenthesized\n"
     ]
    }
   ],
   "source": [
    "import numpy\n",
    "\n",
    "X = cp.Variable((5, 4))\n",
    "A = numpy.ones((3, 5))\n",
    "\n",
    "# Use expr.shape to get the dimensions.\n",
    "print(\"dimensions of X:\", X.shape)\n",
    "print(\"size of X:\", X.size)\n",
    "print(\"number of dimensions:\", X.ndim)\n",
    "print(\"dimensions of sum(X):\", cp.sum(X).shape)\n",
    "print(\"dimensions of A @ X:\", (A @ X).shape)\n",
    "\n",
    "# ValueError raised for invalid dimensions.\n",
    "try:\n",
    "    A + X\n",
    "except ValueError, e:\n",
    "    print(e)"
   ]
  },
  {
   "cell_type": "code",
   "execution_count": 9,
   "id": "c975f5ab-9c17-4b52-a422-f49c203f95a7",
   "metadata": {},
   "outputs": [
    {
     "name": "stdout",
     "output_type": "stream",
     "text": [
      "sign of x: UNKNOWN\n",
      "sign of a: NONPOSITIVE\n",
      "sign of square(x): NONNEGATIVE\n",
      "sign of c*a: UNKNOWN\n"
     ]
    }
   ],
   "source": [
    "import numpy\n",
    "x = cp.Variable()\n",
    "a = cp.Parameter(nonpos=True)\n",
    "c = numpy.array([1, -1])\n",
    "\n",
    "print(\"sign of x:\", x.sign)\n",
    "print(\"sign of a:\", a.sign)\n",
    "print(\"sign of square(x):\", cp.square(x).sign)\n",
    "print(\"sign of c*a:\", (c*a).sign)"
   ]
  },
  {
   "cell_type": "code",
   "execution_count": 10,
   "id": "496aaaae-fd23-48c5-84b5-13c830484aac",
   "metadata": {},
   "outputs": [
    {
     "name": "stdout",
     "output_type": "stream",
     "text": [
      "curvature of x: AFFINE\n",
      "curvature of a: CONSTANT\n",
      "curvature of square(x): CONVEX\n",
      "curvature of sqrt(x): CONCAVE\n"
     ]
    }
   ],
   "source": [
    "x = cp.Variable()\n",
    "a = cp.Parameter(nonneg=True)\n",
    "\n",
    "print(\"curvature of x:\", x.curvature)\n",
    "print(\"curvature of a:\", a.curvature)\n",
    "print(\"curvature of square(x):\", cp.square(x).curvature)\n",
    "print(\"curvature of sqrt(x):\", cp.sqrt(x).curvature)"
   ]
  },
  {
   "cell_type": "code",
   "execution_count": null,
   "id": "d3028256-89ee-4c7b-9c70-5952de052bb4",
   "metadata": {},
   "outputs": [],
   "source": [
    "print(\"sqrt(1 + square(x)) curvature:\",\n",
    "      cp.sqrt(1 + cp.square(x)).curvature)\n",
    "print(\"norm(hstack([1, x]), 2) curvature:\",\n",
    "      cp.norm(cp.hstack([1, x]), 2).curvature)"
   ]
  }
 ],
 "metadata": {
  "kernelspec": {
   "display_name": "Python 3 (ipykernel)",
   "language": "python",
   "name": "python3"
  },
  "language_info": {
   "codemirror_mode": {
    "name": "ipython",
    "version": 3
   },
   "file_extension": ".py",
   "mimetype": "text/x-python",
   "name": "python",
   "nbconvert_exporter": "python",
   "pygments_lexer": "ipython3",
   "version": "3.13.7"
  }
 },
 "nbformat": 4,
 "nbformat_minor": 5
}
